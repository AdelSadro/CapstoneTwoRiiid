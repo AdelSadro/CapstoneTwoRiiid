{
 "cells": [
  {
   "cell_type": "markdown",
   "metadata": {},
   "source": [
    "# Riiid Data Wrangling"
   ]
  },
  {
   "cell_type": "markdown",
   "metadata": {},
   "source": [
    "### Table of content<a id=\"TOC\"></a>\n",
    "\n",
    "* [Data Collection](#Step1)<br>\n",
    "* [Data Organization](#Step2)<br>\n",
    "* [Data Definition](#Step3)<br>\n",
    "* [Data Cleaning](#Step4)<br>\n",
    "* [Finalize Dataset](#Step5)<br>"
   ]
  },
  {
   "cell_type": "markdown",
   "metadata": {},
   "source": [
    "## <a class=\"anchor\" id=\"Step1\">[Step one - Data Collection](#TOC)</a>"
   ]
  },
  {
   "cell_type": "markdown",
   "metadata": {},
   "source": [
    "The first step is to organize the data based on the below three steps:\n",
    "    1. import all the libraries\n",
    "    2. Data loading\n",
    "    3. Data joining"
   ]
  },
  {
   "cell_type": "code",
   "execution_count": 1,
   "metadata": {},
   "outputs": [],
   "source": [
    "import pandas as pd"
   ]
  },
  {
   "cell_type": "code",
   "execution_count": 2,
   "metadata": {},
   "outputs": [],
   "source": [
    "path = '/Users/adelsadr/Springboard-Projects/CapstoneTwoRiiid/riiid-test-answer-prediction/'"
   ]
  },
  {
   "cell_type": "markdown",
   "metadata": {},
   "source": [
    "## <a class=\"anchor\" id=\"Step2\">[Step two - Data Organization](#TOC)</a>"
   ]
  },
  {
   "cell_type": "markdown",
   "metadata": {},
   "source": [
    "Data organization is about creating a file structure and add all the works to the GitHub repository related to this project.\n",
    "    1. File structure\n",
    "    2. GitHub"
   ]
  },
  {
   "cell_type": "markdown",
   "metadata": {},
   "source": [
    "<font color=blue>This project includes five Jupyter Notebooks each for Wrangling, Exploratory Data Analysis, Preprocessing & Training, and Modeling. 'riiid-test-answer-prediction' folder also includes all the data in csv format and finally there is a deck of slides to explain the story behinde this problem.<br>To keep the record of this project I will use the Git version control. All the codes will push to the repository on GitHub after each changes.<font>"
   ]
  },
  {
   "cell_type": "markdown",
   "metadata": {},
   "source": [
    "## <a class=\"anchor\" id=\"Step3\">[Step three - Data Definition](#TOC)</a>"
   ]
  },
  {
   "cell_type": "markdown",
   "metadata": {},
   "source": [
    "THe goal of this step is to gain an understanding of the data features to inform the\n",
    "next steps of the project.\n",
    "    1. Column names\n",
    "    2. Data types\n",
    "    3. Description of the columns\n",
    "    4. Counts and percents unique values\n",
    "    5. Ranges of values"
   ]
  },
  {
   "cell_type": "code",
   "execution_count": 3,
   "metadata": {},
   "outputs": [
    {
     "name": "stdout",
     "output_type": "stream",
     "text": [
      "<class 'pandas.core.frame.DataFrame'>\n",
      "RangeIndex: 104 entries, 0 to 103\n",
      "Data columns (total 3 columns):\n",
      " #   Column              Non-Null Count  Dtype  \n",
      "---  ------              --------------  -----  \n",
      " 0   row_id              104 non-null    int64  \n",
      " 1   answered_correctly  104 non-null    float64\n",
      " 2   group_num           104 non-null    int64  \n",
      "dtypes: float64(1), int64(2)\n",
      "memory usage: 2.6 KB\n",
      "\n",
      "\n",
      "\n",
      "\n",
      "   row_id  answered_correctly  group_num\n",
      "0       0                 0.5          0\n",
      "1       1                 0.5          0\n",
      "2       2                 0.5          0\n",
      "3       3                 0.5          0\n",
      "4       4                 0.5          0\n",
      "\n",
      "\n",
      "\n",
      "\n"
     ]
    },
    {
     "data": {
      "text/html": [
       "<div>\n",
       "<style scoped>\n",
       "    .dataframe tbody tr th:only-of-type {\n",
       "        vertical-align: middle;\n",
       "    }\n",
       "\n",
       "    .dataframe tbody tr th {\n",
       "        vertical-align: top;\n",
       "    }\n",
       "\n",
       "    .dataframe thead th {\n",
       "        text-align: right;\n",
       "    }\n",
       "</style>\n",
       "<table border=\"1\" class=\"dataframe\">\n",
       "  <thead>\n",
       "    <tr style=\"text-align: right;\">\n",
       "      <th></th>\n",
       "      <th>count</th>\n",
       "      <th>mean</th>\n",
       "      <th>std</th>\n",
       "      <th>min</th>\n",
       "      <th>25%</th>\n",
       "      <th>50%</th>\n",
       "      <th>75%</th>\n",
       "      <th>max</th>\n",
       "    </tr>\n",
       "  </thead>\n",
       "  <tbody>\n",
       "    <tr>\n",
       "      <th>row_id</th>\n",
       "      <td>104.0</td>\n",
       "      <td>53.480769</td>\n",
       "      <td>32.012734</td>\n",
       "      <td>0.0</td>\n",
       "      <td>25.75</td>\n",
       "      <td>53.5</td>\n",
       "      <td>80.25</td>\n",
       "      <td>108.0</td>\n",
       "    </tr>\n",
       "    <tr>\n",
       "      <th>answered_correctly</th>\n",
       "      <td>104.0</td>\n",
       "      <td>0.500000</td>\n",
       "      <td>0.000000</td>\n",
       "      <td>0.5</td>\n",
       "      <td>0.50</td>\n",
       "      <td>0.5</td>\n",
       "      <td>0.50</td>\n",
       "      <td>0.5</td>\n",
       "    </tr>\n",
       "    <tr>\n",
       "      <th>group_num</th>\n",
       "      <td>104.0</td>\n",
       "      <td>1.711538</td>\n",
       "      <td>1.094320</td>\n",
       "      <td>0.0</td>\n",
       "      <td>1.00</td>\n",
       "      <td>2.0</td>\n",
       "      <td>3.00</td>\n",
       "      <td>3.0</td>\n",
       "    </tr>\n",
       "  </tbody>\n",
       "</table>\n",
       "</div>"
      ],
      "text/plain": [
       "                    count       mean        std  min    25%   50%    75%  \\\n",
       "row_id              104.0  53.480769  32.012734  0.0  25.75  53.5  80.25   \n",
       "answered_correctly  104.0   0.500000   0.000000  0.5   0.50   0.5   0.50   \n",
       "group_num           104.0   1.711538   1.094320  0.0   1.00   2.0   3.00   \n",
       "\n",
       "                      max  \n",
       "row_id              108.0  \n",
       "answered_correctly    0.5  \n",
       "group_num             3.0  "
      ]
     },
     "execution_count": 3,
     "metadata": {},
     "output_type": "execute_result"
    }
   ],
   "source": [
    "example_sample_submission = pd.read_csv(path + 'example_sample_submission.csv')\n",
    "example_sample_submission.info()\n",
    "print('\\n\\n\\n')\n",
    "print(example_sample_submission.head())\n",
    "print('\\n\\n\\n')\n",
    "example_sample_submission.describe().T"
   ]
  },
  {
   "cell_type": "code",
   "execution_count": 4,
   "metadata": {},
   "outputs": [
    {
     "data": {
      "text/plain": [
       "array([0.5])"
      ]
     },
     "execution_count": 4,
     "metadata": {},
     "output_type": "execute_result"
    }
   ],
   "source": [
    "example_sample_submission['answered_correctly'].unique()"
   ]
  },
  {
   "cell_type": "markdown",
   "metadata": {},
   "source": [
    "<font color=red><b>QUESTION 1</b><font><br>\n",
    "<font color=red>answered_correctly is: \"(int8) if the user responded correctly. Read -1 as null, for lectures.\" based on the data description, but here it shows only 0.5 which is nonsense!<font>"
   ]
  },
  {
   "cell_type": "code",
   "execution_count": 5,
   "metadata": {},
   "outputs": [
    {
     "data": {
      "text/plain": [
       "array([0, 1, 2, 3])"
      ]
     },
     "execution_count": 5,
     "metadata": {},
     "output_type": "execute_result"
    }
   ],
   "source": [
    "example_sample_submission['group_num'].unique()"
   ]
  },
  {
   "cell_type": "markdown",
   "metadata": {},
   "source": [
    "<font color=red><b>QUESTION 2</b><font><br>\n",
    "<font color=red>I counldn't find anything regarding \"group_num\" in the data description.<font>"
   ]
  },
  {
   "cell_type": "code",
   "execution_count": 6,
   "metadata": {},
   "outputs": [
    {
     "data": {
      "text/plain": [
       "0"
      ]
     },
     "execution_count": 6,
     "metadata": {},
     "output_type": "execute_result"
    }
   ],
   "source": [
    "example_sample_submission.duplicated(subset='row_id', keep='first').sum()"
   ]
  },
  {
   "cell_type": "markdown",
   "metadata": {},
   "source": [
    "<font color=blue>There is no duplicate in this dataframe.<font>"
   ]
  },
  {
   "cell_type": "code",
   "execution_count": 7,
   "metadata": {},
   "outputs": [
    {
     "name": "stdout",
     "output_type": "stream",
     "text": [
      "<class 'pandas.core.frame.DataFrame'>\n",
      "RangeIndex: 104 entries, 0 to 103\n",
      "Data columns (total 11 columns):\n",
      " #   Column                          Non-Null Count  Dtype  \n",
      "---  ------                          --------------  -----  \n",
      " 0   row_id                          104 non-null    int64  \n",
      " 1   group_num                       104 non-null    int64  \n",
      " 2   timestamp                       104 non-null    int64  \n",
      " 3   user_id                         104 non-null    int64  \n",
      " 4   content_id                      104 non-null    int64  \n",
      " 5   content_type_id                 104 non-null    int64  \n",
      " 6   task_container_id               104 non-null    int64  \n",
      " 7   prior_question_elapsed_time     103 non-null    float64\n",
      " 8   prior_question_had_explanation  103 non-null    object \n",
      " 9   prior_group_answers_correct     4 non-null      object \n",
      " 10  prior_group_responses           4 non-null      object \n",
      "dtypes: float64(1), int64(7), object(3)\n",
      "memory usage: 9.1+ KB\n",
      "\n",
      "\n",
      "\n",
      "\n",
      "   row_id  group_num    timestamp     user_id  content_id  content_type_id  \\\n",
      "0       0          0            0   275030867        5729                0   \n",
      "1       1          0  13309898705   554169193       12010                0   \n",
      "2       2          0   4213672059  1720860329         457                0   \n",
      "3       3          0  62798072960   288641214       13262                0   \n",
      "4       4          0  10585422061  1728340777        6119                0   \n",
      "\n",
      "   task_container_id  prior_question_elapsed_time  \\\n",
      "0                  0                          NaN   \n",
      "1               4427                      19000.0   \n",
      "2                240                      17000.0   \n",
      "3                266                      23000.0   \n",
      "4                162                      72400.0   \n",
      "\n",
      "  prior_question_had_explanation prior_group_answers_correct  \\\n",
      "0                            NaN                          []   \n",
      "1                           True                         NaN   \n",
      "2                           True                         NaN   \n",
      "3                           True                         NaN   \n",
      "4                           True                         NaN   \n",
      "\n",
      "  prior_group_responses  \n",
      "0                    []  \n",
      "1                   NaN  \n",
      "2                   NaN  \n",
      "3                   NaN  \n",
      "4                   NaN  \n",
      "\n",
      "\n",
      "\n",
      "\n"
     ]
    },
    {
     "data": {
      "text/html": [
       "<div>\n",
       "<style scoped>\n",
       "    .dataframe tbody tr th:only-of-type {\n",
       "        vertical-align: middle;\n",
       "    }\n",
       "\n",
       "    .dataframe tbody tr th {\n",
       "        vertical-align: top;\n",
       "    }\n",
       "\n",
       "    .dataframe thead th {\n",
       "        text-align: right;\n",
       "    }\n",
       "</style>\n",
       "<table border=\"1\" class=\"dataframe\">\n",
       "  <thead>\n",
       "    <tr style=\"text-align: right;\">\n",
       "      <th></th>\n",
       "      <th>count</th>\n",
       "      <th>mean</th>\n",
       "      <th>std</th>\n",
       "      <th>min</th>\n",
       "      <th>25%</th>\n",
       "      <th>50%</th>\n",
       "      <th>75%</th>\n",
       "      <th>max</th>\n",
       "    </tr>\n",
       "  </thead>\n",
       "  <tbody>\n",
       "    <tr>\n",
       "      <th>row_id</th>\n",
       "      <td>104.0</td>\n",
       "      <td>5.348077e+01</td>\n",
       "      <td>3.201273e+01</td>\n",
       "      <td>0.0</td>\n",
       "      <td>2.575000e+01</td>\n",
       "      <td>5.350000e+01</td>\n",
       "      <td>8.025000e+01</td>\n",
       "      <td>1.080000e+02</td>\n",
       "    </tr>\n",
       "    <tr>\n",
       "      <th>group_num</th>\n",
       "      <td>104.0</td>\n",
       "      <td>1.711538e+00</td>\n",
       "      <td>1.094320e+00</td>\n",
       "      <td>0.0</td>\n",
       "      <td>1.000000e+00</td>\n",
       "      <td>2.000000e+00</td>\n",
       "      <td>3.000000e+00</td>\n",
       "      <td>3.000000e+00</td>\n",
       "    </tr>\n",
       "    <tr>\n",
       "      <th>timestamp</th>\n",
       "      <td>104.0</td>\n",
       "      <td>1.669283e+10</td>\n",
       "      <td>2.039655e+10</td>\n",
       "      <td>0.0</td>\n",
       "      <td>1.574161e+09</td>\n",
       "      <td>4.693169e+09</td>\n",
       "      <td>2.746557e+10</td>\n",
       "      <td>7.681646e+10</td>\n",
       "    </tr>\n",
       "    <tr>\n",
       "      <th>user_id</th>\n",
       "      <td>104.0</td>\n",
       "      <td>1.156358e+09</td>\n",
       "      <td>5.966096e+08</td>\n",
       "      <td>7792299.0</td>\n",
       "      <td>6.448233e+08</td>\n",
       "      <td>1.257605e+09</td>\n",
       "      <td>1.609175e+09</td>\n",
       "      <td>2.103437e+09</td>\n",
       "    </tr>\n",
       "    <tr>\n",
       "      <th>content_id</th>\n",
       "      <td>104.0</td>\n",
       "      <td>6.772702e+03</td>\n",
       "      <td>4.503711e+03</td>\n",
       "      <td>18.0</td>\n",
       "      <td>2.028750e+03</td>\n",
       "      <td>6.225500e+03</td>\n",
       "      <td>1.103125e+04</td>\n",
       "      <td>1.335400e+04</td>\n",
       "    </tr>\n",
       "    <tr>\n",
       "      <th>content_type_id</th>\n",
       "      <td>104.0</td>\n",
       "      <td>0.000000e+00</td>\n",
       "      <td>0.000000e+00</td>\n",
       "      <td>0.0</td>\n",
       "      <td>0.000000e+00</td>\n",
       "      <td>0.000000e+00</td>\n",
       "      <td>0.000000e+00</td>\n",
       "      <td>0.000000e+00</td>\n",
       "    </tr>\n",
       "    <tr>\n",
       "      <th>task_container_id</th>\n",
       "      <td>104.0</td>\n",
       "      <td>1.094413e+03</td>\n",
       "      <td>1.588054e+03</td>\n",
       "      <td>0.0</td>\n",
       "      <td>1.627500e+02</td>\n",
       "      <td>3.785000e+02</td>\n",
       "      <td>1.179000e+03</td>\n",
       "      <td>6.958000e+03</td>\n",
       "    </tr>\n",
       "    <tr>\n",
       "      <th>prior_question_elapsed_time</th>\n",
       "      <td>103.0</td>\n",
       "      <td>2.494963e+04</td>\n",
       "      <td>9.969309e+03</td>\n",
       "      <td>7000.0</td>\n",
       "      <td>1.800000e+04</td>\n",
       "      <td>2.466700e+04</td>\n",
       "      <td>2.887500e+04</td>\n",
       "      <td>7.240000e+04</td>\n",
       "    </tr>\n",
       "  </tbody>\n",
       "</table>\n",
       "</div>"
      ],
      "text/plain": [
       "                             count          mean           std        min  \\\n",
       "row_id                       104.0  5.348077e+01  3.201273e+01        0.0   \n",
       "group_num                    104.0  1.711538e+00  1.094320e+00        0.0   \n",
       "timestamp                    104.0  1.669283e+10  2.039655e+10        0.0   \n",
       "user_id                      104.0  1.156358e+09  5.966096e+08  7792299.0   \n",
       "content_id                   104.0  6.772702e+03  4.503711e+03       18.0   \n",
       "content_type_id              104.0  0.000000e+00  0.000000e+00        0.0   \n",
       "task_container_id            104.0  1.094413e+03  1.588054e+03        0.0   \n",
       "prior_question_elapsed_time  103.0  2.494963e+04  9.969309e+03     7000.0   \n",
       "\n",
       "                                      25%           50%           75%  \\\n",
       "row_id                       2.575000e+01  5.350000e+01  8.025000e+01   \n",
       "group_num                    1.000000e+00  2.000000e+00  3.000000e+00   \n",
       "timestamp                    1.574161e+09  4.693169e+09  2.746557e+10   \n",
       "user_id                      6.448233e+08  1.257605e+09  1.609175e+09   \n",
       "content_id                   2.028750e+03  6.225500e+03  1.103125e+04   \n",
       "content_type_id              0.000000e+00  0.000000e+00  0.000000e+00   \n",
       "task_container_id            1.627500e+02  3.785000e+02  1.179000e+03   \n",
       "prior_question_elapsed_time  1.800000e+04  2.466700e+04  2.887500e+04   \n",
       "\n",
       "                                      max  \n",
       "row_id                       1.080000e+02  \n",
       "group_num                    3.000000e+00  \n",
       "timestamp                    7.681646e+10  \n",
       "user_id                      2.103437e+09  \n",
       "content_id                   1.335400e+04  \n",
       "content_type_id              0.000000e+00  \n",
       "task_container_id            6.958000e+03  \n",
       "prior_question_elapsed_time  7.240000e+04  "
      ]
     },
     "execution_count": 7,
     "metadata": {},
     "output_type": "execute_result"
    }
   ],
   "source": [
    "example_test = pd.read_csv(path + 'example_test.csv')\n",
    "example_test.info()\n",
    "print('\\n\\n\\n')\n",
    "print(example_test.head())\n",
    "print('\\n\\n\\n')\n",
    "example_test.describe().T"
   ]
  },
  {
   "cell_type": "code",
   "execution_count": 8,
   "metadata": {},
   "outputs": [
    {
     "data": {
      "text/plain": [
       "0"
      ]
     },
     "execution_count": 8,
     "metadata": {},
     "output_type": "execute_result"
    }
   ],
   "source": [
    "example_test.duplicated(subset='row_id', keep='first').sum()"
   ]
  },
  {
   "cell_type": "markdown",
   "metadata": {},
   "source": [
    "<font color=blue>There is no duplication in this dataframe.<font>"
   ]
  },
  {
   "cell_type": "code",
   "execution_count": 9,
   "metadata": {},
   "outputs": [
    {
     "data": {
      "text/html": [
       "<div>\n",
       "<style scoped>\n",
       "    .dataframe tbody tr th:only-of-type {\n",
       "        vertical-align: middle;\n",
       "    }\n",
       "\n",
       "    .dataframe tbody tr th {\n",
       "        vertical-align: top;\n",
       "    }\n",
       "\n",
       "    .dataframe thead th {\n",
       "        text-align: right;\n",
       "    }\n",
       "</style>\n",
       "<table border=\"1\" class=\"dataframe\">\n",
       "  <thead>\n",
       "    <tr style=\"text-align: right;\">\n",
       "      <th></th>\n",
       "      <th>row_id</th>\n",
       "      <th>group_num</th>\n",
       "      <th>timestamp</th>\n",
       "      <th>user_id</th>\n",
       "      <th>content_id</th>\n",
       "      <th>content_type_id</th>\n",
       "      <th>task_container_id</th>\n",
       "      <th>prior_question_elapsed_time</th>\n",
       "      <th>prior_question_had_explanation</th>\n",
       "      <th>prior_group_answers_correct</th>\n",
       "      <th>prior_group_responses</th>\n",
       "    </tr>\n",
       "  </thead>\n",
       "  <tbody>\n",
       "    <tr>\n",
       "      <th>0</th>\n",
       "      <td>0</td>\n",
       "      <td>0</td>\n",
       "      <td>0</td>\n",
       "      <td>275030867</td>\n",
       "      <td>5729</td>\n",
       "      <td>0</td>\n",
       "      <td>0</td>\n",
       "      <td>NaN</td>\n",
       "      <td>NaN</td>\n",
       "      <td>[]</td>\n",
       "      <td>[]</td>\n",
       "    </tr>\n",
       "    <tr>\n",
       "      <th>18</th>\n",
       "      <td>18</td>\n",
       "      <td>1</td>\n",
       "      <td>23609</td>\n",
       "      <td>275030867</td>\n",
       "      <td>5502</td>\n",
       "      <td>0</td>\n",
       "      <td>1</td>\n",
       "      <td>34000.0</td>\n",
       "      <td>False</td>\n",
       "      <td>[0, 1, 1, 0, 0, 1, 0, 1, 0, 1, 1, 1, 1, 1, 0, ...</td>\n",
       "      <td>[0, 0, 1, 1, 0, 1, 3, 3, 1, 1, 0, 3, 1, 2, 2, ...</td>\n",
       "    </tr>\n",
       "    <tr>\n",
       "      <th>45</th>\n",
       "      <td>46</td>\n",
       "      <td>2</td>\n",
       "      <td>42512</td>\n",
       "      <td>275030867</td>\n",
       "      <td>6133</td>\n",
       "      <td>0</td>\n",
       "      <td>2</td>\n",
       "      <td>17000.0</td>\n",
       "      <td>False</td>\n",
       "      <td>[1, 0, 1, 1, 0, 0, 0, 1, 1, 0, 0, 0, 0, 1, 1, ...</td>\n",
       "      <td>[1, 2, 2, 2, 1, 0, 1, 2, 1, 1, 3, 2, 0, 0, 3, ...</td>\n",
       "    </tr>\n",
       "    <tr>\n",
       "      <th>71</th>\n",
       "      <td>74</td>\n",
       "      <td>3</td>\n",
       "      <td>75311</td>\n",
       "      <td>275030867</td>\n",
       "      <td>8308</td>\n",
       "      <td>0</td>\n",
       "      <td>3</td>\n",
       "      <td>15000.0</td>\n",
       "      <td>False</td>\n",
       "      <td>[1, 1, 1, 1, 0, 1, 1, 0, 0, 1, 0, 0, 1, 1, 0, ...</td>\n",
       "      <td>[0, 1, 0, 0, 1, 1, 0, 0, 1, 1, 1, 0, 3, 0, 0, ...</td>\n",
       "    </tr>\n",
       "  </tbody>\n",
       "</table>\n",
       "</div>"
      ],
      "text/plain": [
       "    row_id  group_num  timestamp    user_id  content_id  content_type_id  \\\n",
       "0        0          0          0  275030867        5729                0   \n",
       "18      18          1      23609  275030867        5502                0   \n",
       "45      46          2      42512  275030867        6133                0   \n",
       "71      74          3      75311  275030867        8308                0   \n",
       "\n",
       "    task_container_id  prior_question_elapsed_time  \\\n",
       "0                   0                          NaN   \n",
       "18                  1                      34000.0   \n",
       "45                  2                      17000.0   \n",
       "71                  3                      15000.0   \n",
       "\n",
       "   prior_question_had_explanation  \\\n",
       "0                             NaN   \n",
       "18                          False   \n",
       "45                          False   \n",
       "71                          False   \n",
       "\n",
       "                          prior_group_answers_correct  \\\n",
       "0                                                  []   \n",
       "18  [0, 1, 1, 0, 0, 1, 0, 1, 0, 1, 1, 1, 1, 1, 0, ...   \n",
       "45  [1, 0, 1, 1, 0, 0, 0, 1, 1, 0, 0, 0, 0, 1, 1, ...   \n",
       "71  [1, 1, 1, 1, 0, 1, 1, 0, 0, 1, 0, 0, 1, 1, 0, ...   \n",
       "\n",
       "                                prior_group_responses  \n",
       "0                                                  []  \n",
       "18  [0, 0, 1, 1, 0, 1, 3, 3, 1, 1, 0, 3, 1, 2, 2, ...  \n",
       "45  [1, 2, 2, 2, 1, 0, 1, 2, 1, 1, 3, 2, 0, 0, 3, ...  \n",
       "71  [0, 1, 0, 0, 1, 1, 0, 0, 1, 1, 1, 0, 3, 0, 0, ...  "
      ]
     },
     "execution_count": 9,
     "metadata": {},
     "output_type": "execute_result"
    }
   ],
   "source": [
    "example_test.loc[example_test['prior_group_answers_correct'].notnull()]"
   ]
  },
  {
   "cell_type": "code",
   "execution_count": 10,
   "metadata": {},
   "outputs": [
    {
     "data": {
      "text/plain": [
       "{' ', ',', '0', '1', '[', ']'}"
      ]
     },
     "execution_count": 10,
     "metadata": {},
     "output_type": "execute_result"
    }
   ],
   "source": [
    "set((example_test['prior_group_answers_correct'].loc[example_test['row_id']==18]).iloc[0])"
   ]
  },
  {
   "cell_type": "code",
   "execution_count": 11,
   "metadata": {},
   "outputs": [
    {
     "data": {
      "text/plain": [
       "{' ', ',', '0', '1', '[', ']'}"
      ]
     },
     "execution_count": 11,
     "metadata": {},
     "output_type": "execute_result"
    }
   ],
   "source": [
    "set((example_test['prior_group_answers_correct'].loc[example_test['row_id']==46]).iloc[0])"
   ]
  },
  {
   "cell_type": "code",
   "execution_count": 12,
   "metadata": {},
   "outputs": [
    {
     "data": {
      "text/plain": [
       "{' ', ',', '0', '1', '[', ']'}"
      ]
     },
     "execution_count": 12,
     "metadata": {},
     "output_type": "execute_result"
    }
   ],
   "source": [
    "set((example_test['prior_group_answers_correct'].loc[example_test['row_id']==74]).iloc[0])"
   ]
  },
  {
   "cell_type": "code",
   "execution_count": 13,
   "metadata": {},
   "outputs": [
    {
     "data": {
      "text/plain": [
       "{' ', ',', '0', '1', '2', '3', '[', ']'}"
      ]
     },
     "execution_count": 13,
     "metadata": {},
     "output_type": "execute_result"
    }
   ],
   "source": [
    "set((example_test['prior_group_responses'].loc[example_test['row_id']==18]).iloc[0])"
   ]
  },
  {
   "cell_type": "code",
   "execution_count": 14,
   "metadata": {},
   "outputs": [
    {
     "data": {
      "text/plain": [
       "{' ', ',', '0', '1', '2', '3', '[', ']'}"
      ]
     },
     "execution_count": 14,
     "metadata": {},
     "output_type": "execute_result"
    }
   ],
   "source": [
    "set((example_test['prior_group_responses'].loc[example_test['row_id']==46]).iloc[0])"
   ]
  },
  {
   "cell_type": "code",
   "execution_count": 15,
   "metadata": {},
   "outputs": [
    {
     "data": {
      "text/plain": [
       "{' ', ',', '0', '1', '3', '[', ']'}"
      ]
     },
     "execution_count": 15,
     "metadata": {},
     "output_type": "execute_result"
    }
   ],
   "source": [
    "set((example_test['prior_group_responses'].loc[example_test['row_id']==74]).iloc[0])"
   ]
  },
  {
   "cell_type": "markdown",
   "metadata": {},
   "source": [
    "<font color=red><b>QUESTION 3</b><font><br>\n",
    "<font color=red>I don't understand these two columns! why all rows are null except four of them? should I keep them? how can I use them?<font>"
   ]
  },
  {
   "cell_type": "code",
   "execution_count": 16,
   "metadata": {},
   "outputs": [
    {
     "data": {
      "text/plain": [
       "array([nan, True, False], dtype=object)"
      ]
     },
     "execution_count": 16,
     "metadata": {},
     "output_type": "execute_result"
    }
   ],
   "source": [
    "example_test['prior_question_had_explanation'].unique()"
   ]
  },
  {
   "cell_type": "code",
   "execution_count": 17,
   "metadata": {},
   "outputs": [
    {
     "data": {
      "text/plain": [
       "1"
      ]
     },
     "execution_count": 17,
     "metadata": {},
     "output_type": "execute_result"
    }
   ],
   "source": [
    "example_test['prior_question_had_explanation'].isnull().sum()"
   ]
  },
  {
   "cell_type": "code",
   "execution_count": 18,
   "metadata": {},
   "outputs": [
    {
     "data": {
      "text/plain": [
       "42"
      ]
     },
     "execution_count": 18,
     "metadata": {},
     "output_type": "execute_result"
    }
   ],
   "source": [
    "example_test['user_id'].nunique()"
   ]
  },
  {
   "cell_type": "markdown",
   "metadata": {},
   "source": [
    "<font color=blue>This dataframe represents 42 users and one of the rows with the null value is the user's first question bundle.<font>"
   ]
  },
  {
   "cell_type": "code",
   "execution_count": 19,
   "metadata": {},
   "outputs": [
    {
     "data": {
      "text/plain": [
       "103"
      ]
     },
     "execution_count": 19,
     "metadata": {},
     "output_type": "execute_result"
    }
   ],
   "source": [
    "example_test['content_id'].nunique()"
   ]
  },
  {
   "cell_type": "code",
   "execution_count": 20,
   "metadata": {},
   "outputs": [
    {
     "data": {
      "text/plain": [
       "0    104\n",
       "Name: content_type_id, dtype: int64"
      ]
     },
     "execution_count": 20,
     "metadata": {},
     "output_type": "execute_result"
    }
   ],
   "source": [
    "example_test['content_type_id'].value_counts()"
   ]
  },
  {
   "cell_type": "code",
   "execution_count": 21,
   "metadata": {},
   "outputs": [
    {
     "data": {
      "text/plain": [
       "74"
      ]
     },
     "execution_count": 21,
     "metadata": {},
     "output_type": "execute_result"
    }
   ],
   "source": [
    "example_test['task_container_id'].nunique()"
   ]
  },
  {
   "cell_type": "markdown",
   "metadata": {},
   "source": [
    "<font color=blue>104 user interaction with 103 questions being posed to users in 74 batches, and not any lectures.<font>"
   ]
  },
  {
   "cell_type": "code",
   "execution_count": 22,
   "metadata": {},
   "outputs": [
    {
     "name": "stdout",
     "output_type": "stream",
     "text": [
      "<class 'pandas.core.frame.DataFrame'>\n",
      "RangeIndex: 418 entries, 0 to 417\n",
      "Data columns (total 4 columns):\n",
      " #   Column      Non-Null Count  Dtype \n",
      "---  ------      --------------  ----- \n",
      " 0   lecture_id  418 non-null    int64 \n",
      " 1   tag         418 non-null    int64 \n",
      " 2   part        418 non-null    int64 \n",
      " 3   type_of     418 non-null    object\n",
      "dtypes: int64(3), object(1)\n",
      "memory usage: 13.2+ KB\n",
      "\n",
      "\n",
      "\n",
      "\n",
      "   lecture_id  tag  part           type_of\n",
      "0          89  159     5           concept\n",
      "1         100   70     1           concept\n",
      "2         185   45     6           concept\n",
      "3         192   79     5  solving question\n",
      "4         317  156     5  solving question\n",
      "\n",
      "\n",
      "\n",
      "\n"
     ]
    },
    {
     "data": {
      "text/html": [
       "<div>\n",
       "<style scoped>\n",
       "    .dataframe tbody tr th:only-of-type {\n",
       "        vertical-align: middle;\n",
       "    }\n",
       "\n",
       "    .dataframe tbody tr th {\n",
       "        vertical-align: top;\n",
       "    }\n",
       "\n",
       "    .dataframe thead th {\n",
       "        text-align: right;\n",
       "    }\n",
       "</style>\n",
       "<table border=\"1\" class=\"dataframe\">\n",
       "  <thead>\n",
       "    <tr style=\"text-align: right;\">\n",
       "      <th></th>\n",
       "      <th>count</th>\n",
       "      <th>mean</th>\n",
       "      <th>std</th>\n",
       "      <th>min</th>\n",
       "      <th>25%</th>\n",
       "      <th>50%</th>\n",
       "      <th>75%</th>\n",
       "      <th>max</th>\n",
       "    </tr>\n",
       "  </thead>\n",
       "  <tbody>\n",
       "    <tr>\n",
       "      <th>lecture_id</th>\n",
       "      <td>418.0</td>\n",
       "      <td>16983.401914</td>\n",
       "      <td>9426.164660</td>\n",
       "      <td>89.0</td>\n",
       "      <td>9026.25</td>\n",
       "      <td>17161.5</td>\n",
       "      <td>24906.25</td>\n",
       "      <td>32736.0</td>\n",
       "    </tr>\n",
       "    <tr>\n",
       "      <th>tag</th>\n",
       "      <td>418.0</td>\n",
       "      <td>94.480861</td>\n",
       "      <td>53.586487</td>\n",
       "      <td>0.0</td>\n",
       "      <td>50.25</td>\n",
       "      <td>94.5</td>\n",
       "      <td>140.00</td>\n",
       "      <td>187.0</td>\n",
       "    </tr>\n",
       "    <tr>\n",
       "      <th>part</th>\n",
       "      <td>418.0</td>\n",
       "      <td>4.267943</td>\n",
       "      <td>1.872424</td>\n",
       "      <td>1.0</td>\n",
       "      <td>2.00</td>\n",
       "      <td>5.0</td>\n",
       "      <td>6.00</td>\n",
       "      <td>7.0</td>\n",
       "    </tr>\n",
       "  </tbody>\n",
       "</table>\n",
       "</div>"
      ],
      "text/plain": [
       "            count          mean          std   min      25%      50%  \\\n",
       "lecture_id  418.0  16983.401914  9426.164660  89.0  9026.25  17161.5   \n",
       "tag         418.0     94.480861    53.586487   0.0    50.25     94.5   \n",
       "part        418.0      4.267943     1.872424   1.0     2.00      5.0   \n",
       "\n",
       "                 75%      max  \n",
       "lecture_id  24906.25  32736.0  \n",
       "tag           140.00    187.0  \n",
       "part            6.00      7.0  "
      ]
     },
     "execution_count": 22,
     "metadata": {},
     "output_type": "execute_result"
    }
   ],
   "source": [
    "lectures = pd.read_csv(path + 'lectures.csv')\n",
    "lectures.info()\n",
    "print('\\n\\n\\n')\n",
    "print(lectures.head())\n",
    "print('\\n\\n\\n')\n",
    "lectures.describe().T"
   ]
  },
  {
   "cell_type": "code",
   "execution_count": 23,
   "metadata": {},
   "outputs": [
    {
     "data": {
      "text/plain": [
       "array(['concept', 'solving question', 'intention', 'starter'],\n",
       "      dtype=object)"
      ]
     },
     "execution_count": 23,
     "metadata": {},
     "output_type": "execute_result"
    }
   ],
   "source": [
    "lectures['type_of'].unique()"
   ]
  },
  {
   "cell_type": "code",
   "execution_count": 24,
   "metadata": {},
   "outputs": [
    {
     "data": {
      "text/plain": [
       "151"
      ]
     },
     "execution_count": 24,
     "metadata": {},
     "output_type": "execute_result"
    }
   ],
   "source": [
    "lectures['tag'].nunique()"
   ]
  },
  {
   "cell_type": "code",
   "execution_count": 25,
   "metadata": {},
   "outputs": [
    {
     "data": {
      "text/plain": [
       "418"
      ]
     },
     "execution_count": 25,
     "metadata": {},
     "output_type": "execute_result"
    }
   ],
   "source": [
    "lectures['lecture_id'].nunique()"
   ]
  },
  {
   "cell_type": "code",
   "execution_count": 26,
   "metadata": {},
   "outputs": [
    {
     "data": {
      "text/plain": [
       "5    143\n",
       "6     83\n",
       "2     56\n",
       "1     54\n",
       "7     32\n",
       "4     31\n",
       "3     19\n",
       "Name: part, dtype: int64"
      ]
     },
     "execution_count": 26,
     "metadata": {},
     "output_type": "execute_result"
    }
   ],
   "source": [
    "lectures['part'].value_counts()"
   ]
  },
  {
   "cell_type": "markdown",
   "metadata": {},
   "source": [
    "<font color=blue>This dataframe includes 418 lectures with four different core purpose, in 151 clusters. Lectures are mostly concentrated on category 5.<font>"
   ]
  },
  {
   "cell_type": "code",
   "execution_count": 27,
   "metadata": {
    "scrolled": true
   },
   "outputs": [
    {
     "name": "stdout",
     "output_type": "stream",
     "text": [
      "<class 'pandas.core.frame.DataFrame'>\n",
      "RangeIndex: 13523 entries, 0 to 13522\n",
      "Data columns (total 5 columns):\n",
      " #   Column          Non-Null Count  Dtype \n",
      "---  ------          --------------  ----- \n",
      " 0   question_id     13523 non-null  int64 \n",
      " 1   bundle_id       13523 non-null  int64 \n",
      " 2   correct_answer  13523 non-null  int64 \n",
      " 3   part            13523 non-null  int64 \n",
      " 4   tags            13522 non-null  object\n",
      "dtypes: int64(4), object(1)\n",
      "memory usage: 528.4+ KB\n",
      "\n",
      "\n",
      "\n",
      "\n",
      "   question_id  bundle_id  correct_answer  part            tags\n",
      "0            0          0               0     1   51 131 162 38\n",
      "1            1          1               1     1       131 36 81\n",
      "2            2          2               0     1  131 101 162 92\n",
      "3            3          3               0     1  131 149 162 29\n",
      "4            4          4               3     1    131 5 162 38\n",
      "\n",
      "\n",
      "\n",
      "\n"
     ]
    },
    {
     "data": {
      "text/html": [
       "<div>\n",
       "<style scoped>\n",
       "    .dataframe tbody tr th:only-of-type {\n",
       "        vertical-align: middle;\n",
       "    }\n",
       "\n",
       "    .dataframe tbody tr th {\n",
       "        vertical-align: top;\n",
       "    }\n",
       "\n",
       "    .dataframe thead th {\n",
       "        text-align: right;\n",
       "    }\n",
       "</style>\n",
       "<table border=\"1\" class=\"dataframe\">\n",
       "  <thead>\n",
       "    <tr style=\"text-align: right;\">\n",
       "      <th></th>\n",
       "      <th>count</th>\n",
       "      <th>mean</th>\n",
       "      <th>std</th>\n",
       "      <th>min</th>\n",
       "      <th>25%</th>\n",
       "      <th>50%</th>\n",
       "      <th>75%</th>\n",
       "      <th>max</th>\n",
       "    </tr>\n",
       "  </thead>\n",
       "  <tbody>\n",
       "    <tr>\n",
       "      <th>question_id</th>\n",
       "      <td>13523.0</td>\n",
       "      <td>6761.000000</td>\n",
       "      <td>3903.898180</td>\n",
       "      <td>0.0</td>\n",
       "      <td>3380.5</td>\n",
       "      <td>6761.0</td>\n",
       "      <td>10141.5</td>\n",
       "      <td>13522.0</td>\n",
       "    </tr>\n",
       "    <tr>\n",
       "      <th>bundle_id</th>\n",
       "      <td>13523.0</td>\n",
       "      <td>6760.510907</td>\n",
       "      <td>3903.857783</td>\n",
       "      <td>0.0</td>\n",
       "      <td>3379.5</td>\n",
       "      <td>6761.0</td>\n",
       "      <td>10140.0</td>\n",
       "      <td>13522.0</td>\n",
       "    </tr>\n",
       "    <tr>\n",
       "      <th>correct_answer</th>\n",
       "      <td>13523.0</td>\n",
       "      <td>1.455298</td>\n",
       "      <td>1.149707</td>\n",
       "      <td>0.0</td>\n",
       "      <td>0.0</td>\n",
       "      <td>1.0</td>\n",
       "      <td>3.0</td>\n",
       "      <td>3.0</td>\n",
       "    </tr>\n",
       "    <tr>\n",
       "      <th>part</th>\n",
       "      <td>13523.0</td>\n",
       "      <td>4.264956</td>\n",
       "      <td>1.652553</td>\n",
       "      <td>1.0</td>\n",
       "      <td>3.0</td>\n",
       "      <td>5.0</td>\n",
       "      <td>5.0</td>\n",
       "      <td>7.0</td>\n",
       "    </tr>\n",
       "  </tbody>\n",
       "</table>\n",
       "</div>"
      ],
      "text/plain": [
       "                  count         mean          std  min     25%     50%  \\\n",
       "question_id     13523.0  6761.000000  3903.898180  0.0  3380.5  6761.0   \n",
       "bundle_id       13523.0  6760.510907  3903.857783  0.0  3379.5  6761.0   \n",
       "correct_answer  13523.0     1.455298     1.149707  0.0     0.0     1.0   \n",
       "part            13523.0     4.264956     1.652553  1.0     3.0     5.0   \n",
       "\n",
       "                    75%      max  \n",
       "question_id     10141.5  13522.0  \n",
       "bundle_id       10140.0  13522.0  \n",
       "correct_answer      3.0      3.0  \n",
       "part                5.0      7.0  "
      ]
     },
     "execution_count": 27,
     "metadata": {},
     "output_type": "execute_result"
    }
   ],
   "source": [
    "questions = pd.read_csv(path + 'questions.csv')\n",
    "questions.info()\n",
    "print('\\n\\n\\n')\n",
    "print(questions.head())\n",
    "print('\\n\\n\\n')\n",
    "questions.describe().T"
   ]
  },
  {
   "cell_type": "markdown",
   "metadata": {},
   "source": [
    "<font color=blue>There are 13523 questions in 9765 batches. correct answers are provided without any null value to compare to 'user_answer' from the train dataset.<br>Most of the questions are concentrated on section 5 of the TOEIC test.<br>'tags' column has one null record, and unlike the lectures dataset, questions can have one or more tag code. There are 1519 clusters of question in questions dataset.<font>"
   ]
  },
  {
   "cell_type": "code",
   "execution_count": 28,
   "metadata": {},
   "outputs": [
    {
     "data": {
      "text/plain": [
       "13523"
      ]
     },
     "execution_count": 28,
     "metadata": {},
     "output_type": "execute_result"
    }
   ],
   "source": [
    "questions['question_id'].nunique()"
   ]
  },
  {
   "cell_type": "code",
   "execution_count": 29,
   "metadata": {},
   "outputs": [
    {
     "data": {
      "text/plain": [
       "9765"
      ]
     },
     "execution_count": 29,
     "metadata": {},
     "output_type": "execute_result"
    }
   ],
   "source": [
    "questions['bundle_id'].nunique()"
   ]
  },
  {
   "cell_type": "code",
   "execution_count": 30,
   "metadata": {},
   "outputs": [
    {
     "data": {
      "text/plain": [
       "0    3716\n",
       "3    3544\n",
       "1    3478\n",
       "2    2785\n",
       "Name: correct_answer, dtype: int64"
      ]
     },
     "execution_count": 30,
     "metadata": {},
     "output_type": "execute_result"
    }
   ],
   "source": [
    "questions['correct_answer'].value_counts()"
   ]
  },
  {
   "cell_type": "code",
   "execution_count": 31,
   "metadata": {},
   "outputs": [
    {
     "data": {
      "text/plain": [
       "5    5511\n",
       "2    1647\n",
       "3    1562\n",
       "4    1439\n",
       "6    1212\n",
       "7    1160\n",
       "1     992\n",
       "Name: part, dtype: int64"
      ]
     },
     "execution_count": 31,
     "metadata": {},
     "output_type": "execute_result"
    }
   ],
   "source": [
    "questions['part'].value_counts()"
   ]
  },
  {
   "cell_type": "code",
   "execution_count": 32,
   "metadata": {},
   "outputs": [
    {
     "data": {
      "text/plain": [
       "1519"
      ]
     },
     "execution_count": 32,
     "metadata": {},
     "output_type": "execute_result"
    }
   ],
   "source": [
    "questions['tags'].nunique()"
   ]
  },
  {
   "cell_type": "code",
   "execution_count": 33,
   "metadata": {},
   "outputs": [
    {
     "data": {
      "text/html": [
       "<div>\n",
       "<style scoped>\n",
       "    .dataframe tbody tr th:only-of-type {\n",
       "        vertical-align: middle;\n",
       "    }\n",
       "\n",
       "    .dataframe tbody tr th {\n",
       "        vertical-align: top;\n",
       "    }\n",
       "\n",
       "    .dataframe thead th {\n",
       "        text-align: right;\n",
       "    }\n",
       "</style>\n",
       "<table border=\"1\" class=\"dataframe\">\n",
       "  <thead>\n",
       "    <tr style=\"text-align: right;\">\n",
       "      <th></th>\n",
       "      <th>question_id</th>\n",
       "      <th>bundle_id</th>\n",
       "      <th>correct_answer</th>\n",
       "      <th>part</th>\n",
       "      <th>tags</th>\n",
       "    </tr>\n",
       "  </thead>\n",
       "  <tbody>\n",
       "    <tr>\n",
       "      <th>10033</th>\n",
       "      <td>10033</td>\n",
       "      <td>10033</td>\n",
       "      <td>2</td>\n",
       "      <td>6</td>\n",
       "      <td>NaN</td>\n",
       "    </tr>\n",
       "  </tbody>\n",
       "</table>\n",
       "</div>"
      ],
      "text/plain": [
       "       question_id  bundle_id  correct_answer  part tags\n",
       "10033        10033      10033               2     6  NaN"
      ]
     },
     "execution_count": 33,
     "metadata": {},
     "output_type": "execute_result"
    }
   ],
   "source": [
    "questions[questions['tags'].isnull()]"
   ]
  },
  {
   "cell_type": "code",
   "execution_count": 34,
   "metadata": {},
   "outputs": [
    {
     "name": "stdout",
     "output_type": "stream",
     "text": [
      "<class 'pandas.core.frame.DataFrame'>\n",
      "RangeIndex: 101230332 entries, 0 to 101230331\n",
      "Data columns (total 10 columns):\n",
      " #   Column                          Dtype  \n",
      "---  ------                          -----  \n",
      " 0   row_id                          int64  \n",
      " 1   timestamp                       int64  \n",
      " 2   user_id                         int64  \n",
      " 3   content_id                      int64  \n",
      " 4   content_type_id                 int64  \n",
      " 5   task_container_id               int64  \n",
      " 6   user_answer                     int64  \n",
      " 7   answered_correctly              int64  \n",
      " 8   prior_question_elapsed_time     float64\n",
      " 9   prior_question_had_explanation  object \n",
      "dtypes: float64(1), int64(8), object(1)\n",
      "memory usage: 7.5+ GB\n",
      "\n",
      "\n",
      "\n",
      "\n",
      "   row_id  timestamp  user_id  content_id  content_type_id  task_container_id  \\\n",
      "0       0          0      115        5692                0                  1   \n",
      "1       1      56943      115        5716                0                  2   \n",
      "2       2     118363      115         128                0                  0   \n",
      "3       3     131167      115        7860                0                  3   \n",
      "4       4     137965      115        7922                0                  4   \n",
      "\n",
      "   user_answer  answered_correctly  prior_question_elapsed_time  \\\n",
      "0            3                   1                          NaN   \n",
      "1            2                   1                      37000.0   \n",
      "2            0                   1                      55000.0   \n",
      "3            0                   1                      19000.0   \n",
      "4            1                   1                      11000.0   \n",
      "\n",
      "  prior_question_had_explanation  \n",
      "0                            NaN  \n",
      "1                          False  \n",
      "2                          False  \n",
      "3                          False  \n",
      "4                          False  \n",
      "\n",
      "\n",
      "\n",
      "\n"
     ]
    },
    {
     "data": {
      "text/html": [
       "<div>\n",
       "<style scoped>\n",
       "    .dataframe tbody tr th:only-of-type {\n",
       "        vertical-align: middle;\n",
       "    }\n",
       "\n",
       "    .dataframe tbody tr th {\n",
       "        vertical-align: top;\n",
       "    }\n",
       "\n",
       "    .dataframe thead th {\n",
       "        text-align: right;\n",
       "    }\n",
       "</style>\n",
       "<table border=\"1\" class=\"dataframe\">\n",
       "  <thead>\n",
       "    <tr style=\"text-align: right;\">\n",
       "      <th></th>\n",
       "      <th>count</th>\n",
       "      <th>mean</th>\n",
       "      <th>std</th>\n",
       "      <th>min</th>\n",
       "      <th>25%</th>\n",
       "      <th>50%</th>\n",
       "      <th>75%</th>\n",
       "      <th>max</th>\n",
       "    </tr>\n",
       "  </thead>\n",
       "  <tbody>\n",
       "    <tr>\n",
       "      <th>row_id</th>\n",
       "      <td>101230332.0</td>\n",
       "      <td>5.061517e+07</td>\n",
       "      <td>2.922268e+07</td>\n",
       "      <td>0.0</td>\n",
       "      <td>2.530758e+07</td>\n",
       "      <td>5.061517e+07</td>\n",
       "      <td>7.592275e+07</td>\n",
       "      <td>1.012303e+08</td>\n",
       "    </tr>\n",
       "    <tr>\n",
       "      <th>timestamp</th>\n",
       "      <td>101230332.0</td>\n",
       "      <td>7.703644e+09</td>\n",
       "      <td>1.159266e+10</td>\n",
       "      <td>0.0</td>\n",
       "      <td>5.243436e+08</td>\n",
       "      <td>2.674234e+09</td>\n",
       "      <td>9.924551e+09</td>\n",
       "      <td>8.742577e+10</td>\n",
       "    </tr>\n",
       "    <tr>\n",
       "      <th>user_id</th>\n",
       "      <td>101230332.0</td>\n",
       "      <td>1.076732e+09</td>\n",
       "      <td>6.197163e+08</td>\n",
       "      <td>115.0</td>\n",
       "      <td>5.408116e+08</td>\n",
       "      <td>1.071781e+09</td>\n",
       "      <td>1.615742e+09</td>\n",
       "      <td>2.147483e+09</td>\n",
       "    </tr>\n",
       "    <tr>\n",
       "      <th>content_id</th>\n",
       "      <td>101230332.0</td>\n",
       "      <td>5.219605e+03</td>\n",
       "      <td>3.866359e+03</td>\n",
       "      <td>0.0</td>\n",
       "      <td>2.063000e+03</td>\n",
       "      <td>5.026000e+03</td>\n",
       "      <td>7.425000e+03</td>\n",
       "      <td>3.273600e+04</td>\n",
       "    </tr>\n",
       "    <tr>\n",
       "      <th>content_type_id</th>\n",
       "      <td>101230332.0</td>\n",
       "      <td>1.935222e-02</td>\n",
       "      <td>1.377596e-01</td>\n",
       "      <td>0.0</td>\n",
       "      <td>0.000000e+00</td>\n",
       "      <td>0.000000e+00</td>\n",
       "      <td>0.000000e+00</td>\n",
       "      <td>1.000000e+00</td>\n",
       "    </tr>\n",
       "    <tr>\n",
       "      <th>task_container_id</th>\n",
       "      <td>101230332.0</td>\n",
       "      <td>9.040624e+02</td>\n",
       "      <td>1.358302e+03</td>\n",
       "      <td>0.0</td>\n",
       "      <td>1.040000e+02</td>\n",
       "      <td>3.820000e+02</td>\n",
       "      <td>1.094000e+03</td>\n",
       "      <td>9.999000e+03</td>\n",
       "    </tr>\n",
       "    <tr>\n",
       "      <th>user_answer</th>\n",
       "      <td>101230332.0</td>\n",
       "      <td>1.376123e+00</td>\n",
       "      <td>1.192896e+00</td>\n",
       "      <td>-1.0</td>\n",
       "      <td>0.000000e+00</td>\n",
       "      <td>1.000000e+00</td>\n",
       "      <td>3.000000e+00</td>\n",
       "      <td>3.000000e+00</td>\n",
       "    </tr>\n",
       "    <tr>\n",
       "      <th>answered_correctly</th>\n",
       "      <td>101230332.0</td>\n",
       "      <td>6.251644e-01</td>\n",
       "      <td>5.225307e-01</td>\n",
       "      <td>-1.0</td>\n",
       "      <td>0.000000e+00</td>\n",
       "      <td>1.000000e+00</td>\n",
       "      <td>1.000000e+00</td>\n",
       "      <td>1.000000e+00</td>\n",
       "    </tr>\n",
       "    <tr>\n",
       "      <th>prior_question_elapsed_time</th>\n",
       "      <td>98878794.0</td>\n",
       "      <td>2.542381e+04</td>\n",
       "      <td>1.994815e+04</td>\n",
       "      <td>0.0</td>\n",
       "      <td>1.600000e+04</td>\n",
       "      <td>2.100000e+04</td>\n",
       "      <td>2.966600e+04</td>\n",
       "      <td>3.000000e+05</td>\n",
       "    </tr>\n",
       "  </tbody>\n",
       "</table>\n",
       "</div>"
      ],
      "text/plain": [
       "                                   count          mean           std    min  \\\n",
       "row_id                       101230332.0  5.061517e+07  2.922268e+07    0.0   \n",
       "timestamp                    101230332.0  7.703644e+09  1.159266e+10    0.0   \n",
       "user_id                      101230332.0  1.076732e+09  6.197163e+08  115.0   \n",
       "content_id                   101230332.0  5.219605e+03  3.866359e+03    0.0   \n",
       "content_type_id              101230332.0  1.935222e-02  1.377596e-01    0.0   \n",
       "task_container_id            101230332.0  9.040624e+02  1.358302e+03    0.0   \n",
       "user_answer                  101230332.0  1.376123e+00  1.192896e+00   -1.0   \n",
       "answered_correctly           101230332.0  6.251644e-01  5.225307e-01   -1.0   \n",
       "prior_question_elapsed_time   98878794.0  2.542381e+04  1.994815e+04    0.0   \n",
       "\n",
       "                                      25%           50%           75%  \\\n",
       "row_id                       2.530758e+07  5.061517e+07  7.592275e+07   \n",
       "timestamp                    5.243436e+08  2.674234e+09  9.924551e+09   \n",
       "user_id                      5.408116e+08  1.071781e+09  1.615742e+09   \n",
       "content_id                   2.063000e+03  5.026000e+03  7.425000e+03   \n",
       "content_type_id              0.000000e+00  0.000000e+00  0.000000e+00   \n",
       "task_container_id            1.040000e+02  3.820000e+02  1.094000e+03   \n",
       "user_answer                  0.000000e+00  1.000000e+00  3.000000e+00   \n",
       "answered_correctly           0.000000e+00  1.000000e+00  1.000000e+00   \n",
       "prior_question_elapsed_time  1.600000e+04  2.100000e+04  2.966600e+04   \n",
       "\n",
       "                                      max  \n",
       "row_id                       1.012303e+08  \n",
       "timestamp                    8.742577e+10  \n",
       "user_id                      2.147483e+09  \n",
       "content_id                   3.273600e+04  \n",
       "content_type_id              1.000000e+00  \n",
       "task_container_id            9.999000e+03  \n",
       "user_answer                  3.000000e+00  \n",
       "answered_correctly           1.000000e+00  \n",
       "prior_question_elapsed_time  3.000000e+05  "
      ]
     },
     "execution_count": 34,
     "metadata": {},
     "output_type": "execute_result"
    }
   ],
   "source": [
    "train = pd.read_csv(path + 'train.csv')\n",
    "train.info()\n",
    "print('\\n\\n\\n')\n",
    "print(train.head())\n",
    "print('\\n\\n\\n')\n",
    "train.describe().T"
   ]
  },
  {
   "cell_type": "code",
   "execution_count": 35,
   "metadata": {},
   "outputs": [
    {
     "data": {
      "text/plain": [
       "row_id                                  0\n",
       "timestamp                               0\n",
       "user_id                                 0\n",
       "content_id                              0\n",
       "content_type_id                         0\n",
       "task_container_id                       0\n",
       "user_answer                             0\n",
       "answered_correctly                      0\n",
       "prior_question_elapsed_time       2351538\n",
       "prior_question_had_explanation     392506\n",
       "dtype: int64"
      ]
     },
     "execution_count": 35,
     "metadata": {},
     "output_type": "execute_result"
    }
   ],
   "source": [
    "train.isnull().sum()"
   ]
  },
  {
   "cell_type": "markdown",
   "metadata": {},
   "source": [
    "<font color=blue>Null values in these two columns show the user's first question bundle or lecture, so it is ok to keep these records.<font>"
   ]
  },
  {
   "cell_type": "markdown",
   "metadata": {},
   "source": [
    "## <a class=\"anchor\" id=\"Step4\">[Step four - Data Cleaning](#TOC)</a>"
   ]
  },
  {
   "cell_type": "markdown",
   "metadata": {},
   "source": [
    "Clean up the data in order to prepare it for the next steps of\n",
    "your project.\n",
    "    1. NA or missing values\n",
    "    2. Duplicates"
   ]
  },
  {
   "cell_type": "markdown",
   "metadata": {},
   "source": [
    "<font color=blue>All the csv files has been checked, these datasets are clean enough to use.<font>"
   ]
  },
  {
   "cell_type": "markdown",
   "metadata": {},
   "source": [
    "## <a class=\"anchor\" id=\"Step5\">[Step five - Finalize Dataset](#TOC)</a>"
   ]
  },
  {
   "cell_type": "markdown",
   "metadata": {},
   "source": [
    "Save the clean data to a csv file to use in the future processes."
   ]
  },
  {
   "cell_type": "markdown",
   "metadata": {},
   "source": [
    "<font color=blue>Final csv files are saved and available in 'riiid-test-answer-prediction' folder<font>"
   ]
  }
 ],
 "metadata": {
  "kernelspec": {
   "display_name": "Python 3",
   "language": "python",
   "name": "python3"
  },
  "language_info": {
   "codemirror_mode": {
    "name": "ipython",
    "version": 3
   },
   "file_extension": ".py",
   "mimetype": "text/x-python",
   "name": "python",
   "nbconvert_exporter": "python",
   "pygments_lexer": "ipython3",
   "version": "3.8.3"
  }
 },
 "nbformat": 4,
 "nbformat_minor": 4
}
